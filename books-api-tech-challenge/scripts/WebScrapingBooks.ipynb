{
  "nbformat": 4,
  "nbformat_minor": 0,
  "metadata": {
    "colab": {
      "provenance": []
    },
    "kernelspec": {
      "name": "python3",
      "display_name": "Python 3"
    },
    "language_info": {
      "name": "python"
    }
  },
  "cells": [
    {
      "cell_type": "markdown",
      "source": [
        "- Fazer o Web Scraping do site: https://books.toscrape.com/\n",
        "\n",
        "- **Dados Necessários**:\n",
        "    - Título\n",
        "    - Preço\n",
        "    - Nota\n",
        "    - Disponibilidade\n",
        "    - Categoria\n",
        "    - Imagem"
      ],
      "metadata": {
        "id": "1sIgArRVg9O8"
      }
    },
    {
      "cell_type": "markdown",
      "source": [
        "## Importando Bibliotecas Necessárias"
      ],
      "metadata": {
        "id": "ArgvKJY_iuWP"
      }
    },
    {
      "cell_type": "code",
      "execution_count": null,
      "metadata": {
        "id": "90ukr3mmg5Hq"
      },
      "outputs": [],
      "source": [
        "import requests\n",
        "from bs4 import BeautifulSoup\n",
        "import pandas as pd\n",
        "import time"
      ]
    },
    {
      "cell_type": "markdown",
      "source": [
        "## Requisitando a url"
      ],
      "metadata": {
        "id": "td13vK78iyXb"
      }
    },
    {
      "cell_type": "code",
      "source": [
        "url_books = 'https://books.toscrape.com/'\n",
        "response = requests.get(url_books)\n",
        "\n",
        "if response.status_code == 200:\n",
        "    content = response.text\n",
        "    print('Página obtida com sucesso.')\n",
        "else:\n",
        "    print(f'Erro ao acessar a página. Código de status: {response.status_code}')"
      ],
      "metadata": {
        "colab": {
          "base_uri": "https://localhost:8080/"
        },
        "id": "83WqKAbniqT5",
        "outputId": "5caf6d61-47dc-4087-eb14-bfd13bbf8bb0"
      },
      "execution_count": null,
      "outputs": [
        {
          "output_type": "stream",
          "name": "stdout",
          "text": [
            "Página obtida com sucesso.\n"
          ]
        }
      ]
    },
    {
      "cell_type": "markdown",
      "source": [
        "## Pegando o conteúdo da página com o BeautifulSoup"
      ],
      "metadata": {
        "id": "pzHkmassjbJg"
      }
    },
    {
      "cell_type": "code",
      "source": [
        "soup = BeautifulSoup(content, 'html.parser')"
      ],
      "metadata": {
        "id": "KwXvdhzjjS_l"
      },
      "execution_count": null,
      "outputs": []
    },
    {
      "cell_type": "code",
      "source": [
        "# # Print da página inteira com o soup\n",
        "# soup"
      ],
      "metadata": {
        "id": "jxpAk-eojiDQ"
      },
      "execution_count": null,
      "outputs": []
    },
    {
      "cell_type": "markdown",
      "source": [
        "## O que preciso de cada livro?\n"
      ],
      "metadata": {
        "id": "VNweAJjLlpEY"
      }
    },
    {
      "cell_type": "markdown",
      "source": [
        "- **Todos os livros**: ol class=\"row\" > find_all(li)\n",
        "\n",
        "- **Título do livro**: h3 > a title\n",
        "- **Preço**: div class=\"product_price\" > p class=\"price_color\"\n",
        "- **Nota**: p class=\"star-rating X\", sendo X a nota\n",
        "- **Disponibilidade**: p class=\"instock availability\" > i class=\"icon-ok\"\n",
        "- **Categoria**: Necessário seguir o link do livro até outra página, na outra página: ul class=\"breadcrumb\" > li > a\n",
        "- **Imagem**: div class=\"image_container\" > a > img src=\"jpg\""
      ],
      "metadata": {
        "id": "zd1D3tqClvSK"
      }
    },
    {
      "cell_type": "markdown",
      "source": [
        "### Definindo as queries necessárias para achar cada informação"
      ],
      "metadata": {
        "id": "9kpOJLTvohzN"
      }
    },
    {
      "cell_type": "code",
      "source": [
        "## Título\n",
        "soup.find('article', class_='product_pod').find('h3').find('a')['title']"
      ],
      "metadata": {
        "colab": {
          "base_uri": "https://localhost:8080/",
          "height": 35
        },
        "id": "50D-9CV9jieg",
        "outputId": "eccc1b0e-219f-4ff6-8061-cb2bced8574f"
      },
      "execution_count": null,
      "outputs": [
        {
          "output_type": "execute_result",
          "data": {
            "text/plain": [
              "'A Light in the Attic'"
            ],
            "application/vnd.google.colaboratory.intrinsic+json": {
              "type": "string"
            }
          },
          "metadata": {},
          "execution_count": 6
        }
      ]
    },
    {
      "cell_type": "code",
      "source": [
        "## Preço\n",
        "# [2:] retira o símbolo de Libras\n",
        "soup.find('div', class_='product_price').find('p', class_='price_color').text[2:]"
      ],
      "metadata": {
        "colab": {
          "base_uri": "https://localhost:8080/",
          "height": 35
        },
        "id": "-qEPLyZ9oUkH",
        "outputId": "70a4a21c-d641-4170-eb57-d872d036766e"
      },
      "execution_count": null,
      "outputs": [
        {
          "output_type": "execute_result",
          "data": {
            "text/plain": [
              "'51.77'"
            ],
            "application/vnd.google.colaboratory.intrinsic+json": {
              "type": "string"
            }
          },
          "metadata": {},
          "execution_count": 7
        }
      ]
    },
    {
      "cell_type": "code",
      "source": [
        "## Nota\n",
        "soup.find('p', class_='star-rating')['class'][1]"
      ],
      "metadata": {
        "colab": {
          "base_uri": "https://localhost:8080/",
          "height": 35
        },
        "id": "zicr32mDpUD4",
        "outputId": "8f84fd6f-50fd-4097-cf64-98dfc47dbd91"
      },
      "execution_count": null,
      "outputs": [
        {
          "output_type": "execute_result",
          "data": {
            "text/plain": [
              "'Three'"
            ],
            "application/vnd.google.colaboratory.intrinsic+json": {
              "type": "string"
            }
          },
          "metadata": {},
          "execution_count": 8
        }
      ]
    },
    {
      "cell_type": "code",
      "source": [
        "## Disponibilidade\n",
        "soup.find('p', class_='instock availability').find('i')['class'][0].split('-')[-1]"
      ],
      "metadata": {
        "colab": {
          "base_uri": "https://localhost:8080/",
          "height": 35
        },
        "id": "ABT5ZQuDpUBB",
        "outputId": "5d7b7e81-ad4e-4be3-b29e-bff83c521d6d"
      },
      "execution_count": null,
      "outputs": [
        {
          "output_type": "execute_result",
          "data": {
            "text/plain": [
              "'ok'"
            ],
            "application/vnd.google.colaboratory.intrinsic+json": {
              "type": "string"
            }
          },
          "metadata": {},
          "execution_count": 9
        }
      ]
    },
    {
      "cell_type": "code",
      "source": [
        "## Categoria passo 1\n",
        "link_to_book = soup.find('article', class_='product_pod').find('h3').find('a')['href']\n",
        "print(link_to_book)\n",
        "full_link = requests.compat.urljoin(url_books, link_to_book)\n",
        "full_link"
      ],
      "metadata": {
        "colab": {
          "base_uri": "https://localhost:8080/",
          "height": 53
        },
        "id": "mGx1dFBiwGFX",
        "outputId": "259e1f78-7f9f-4d68-a8bf-fb7e3ff3a894"
      },
      "execution_count": null,
      "outputs": [
        {
          "output_type": "stream",
          "name": "stdout",
          "text": [
            "catalogue/a-light-in-the-attic_1000/index.html\n"
          ]
        },
        {
          "output_type": "execute_result",
          "data": {
            "text/plain": [
              "'https://books.toscrape.com/catalogue/a-light-in-the-attic_1000/index.html'"
            ],
            "application/vnd.google.colaboratory.intrinsic+json": {
              "type": "string"
            }
          },
          "metadata": {},
          "execution_count": 39
        }
      ]
    },
    {
      "cell_type": "code",
      "source": [
        "## Categoria passo 2\n",
        "response_cat = requests.get(full_link)\n",
        "content_cat = response_cat.text\n",
        "soup_cat = BeautifulSoup(content_cat, 'html.parser')"
      ],
      "metadata": {
        "id": "AJMaeHddxCL3"
      },
      "execution_count": null,
      "outputs": []
    },
    {
      "cell_type": "code",
      "source": [
        "## Categoria passo 3\n",
        "soup_cat.find('ul', class_='breadcrumb').find_all('li')[2].find('a').get_text()"
      ],
      "metadata": {
        "colab": {
          "base_uri": "https://localhost:8080/",
          "height": 35
        },
        "id": "3VwhnJ-vx08c",
        "outputId": "4a4183c2-97c4-4d61-cdc7-a3b4c5551057"
      },
      "execution_count": null,
      "outputs": [
        {
          "output_type": "execute_result",
          "data": {
            "text/plain": [
              "'Poetry'"
            ],
            "application/vnd.google.colaboratory.intrinsic+json": {
              "type": "string"
            }
          },
          "metadata": {},
          "execution_count": 12
        }
      ]
    },
    {
      "cell_type": "code",
      "source": [
        "## Imagem\n",
        "img = soup.find('div', class_='image_container').find('a').find('img')['src']\n",
        "img"
      ],
      "metadata": {
        "colab": {
          "base_uri": "https://localhost:8080/",
          "height": 35
        },
        "id": "A_RnEsREpTqr",
        "outputId": "8a67c680-afe7-42f8-dfa9-8d6962e7e7dc"
      },
      "execution_count": null,
      "outputs": [
        {
          "output_type": "execute_result",
          "data": {
            "text/plain": [
              "'media/cache/2c/da/2cdad67c44b002e7ead0cc35693c0e8b.jpg'"
            ],
            "application/vnd.google.colaboratory.intrinsic+json": {
              "type": "string"
            }
          },
          "metadata": {},
          "execution_count": 13
        }
      ]
    },
    {
      "cell_type": "code",
      "source": [
        "## Completando o link da imagem\n",
        "requests.compat.urljoin(url_books, img)"
      ],
      "metadata": {
        "colab": {
          "base_uri": "https://localhost:8080/",
          "height": 35
        },
        "id": "38K3jBQo1DgJ",
        "outputId": "1860ad49-a86d-4b69-ef0b-98fb22bbb83b"
      },
      "execution_count": null,
      "outputs": [
        {
          "output_type": "execute_result",
          "data": {
            "text/plain": [
              "'https://books.toscrape.com/media/cache/2c/da/2cdad67c44b002e7ead0cc35693c0e8b.jpg'"
            ],
            "application/vnd.google.colaboratory.intrinsic+json": {
              "type": "string"
            }
          },
          "metadata": {},
          "execution_count": 14
        }
      ]
    },
    {
      "cell_type": "markdown",
      "source": [
        "## Criando uma função para pegar a categoria e uma para pegar todos os outros dados"
      ],
      "metadata": {
        "id": "UXL-BU2jvdlZ"
      }
    },
    {
      "cell_type": "code",
      "source": [
        "def get_category(url):\n",
        "    response = requests.get(url)\n",
        "    soup = BeautifulSoup(response.text, 'html.parser')\n",
        "\n",
        "    time.sleep(1)\n",
        "\n",
        "    category = soup.find('ul', class_='breadcrumb').find_all('li')[2].find('a').get_text()\n",
        "\n",
        "    return category"
      ],
      "metadata": {
        "id": "sT2QZE7RvmjP"
      },
      "execution_count": null,
      "outputs": []
    },
    {
      "cell_type": "code",
      "source": [
        "def get_details(pages: int) -> list:\n",
        "    \"\"\"\n",
        "    Pega os detalhes de cada livro dentro de cada página.\n",
        "\n",
        "    Retorna uma lista de dicionários com os detalhes de cada livro.\n",
        "\n",
        "    Args:\n",
        "        pages (int): O número de páginas do site.\n",
        "\n",
        "    Returns:\n",
        "        list: Uma lista de dicionários com os detalhes de cada livro.\n",
        "    \"\"\"\n",
        "    book_data = []\n",
        "\n",
        "    for page in range(pages):\n",
        "        url_raiz = 'https://books.toscrape.com/catalogue/'\n",
        "        url = f'https://books.toscrape.com/catalogue/page-{page+1}.html'\n",
        "\n",
        "        response = requests.get(url)\n",
        "        soup = BeautifulSoup(response.text, 'html.parser')\n",
        "\n",
        "        books = soup.find('ol', class_='row').find_all('li')\n",
        "\n",
        "        for book in books:\n",
        "            title = book.find('article', class_='product_pod').find('h3').find('a')['title']\n",
        "            price = book.find('div', class_='product_price').find('p', class_='price_color').text[2:]\n",
        "            rating = book.find('p', class_='star-rating')['class'][1]\n",
        "            availability = book.find('p', class_='instock availability').find('i')['class'][0].split('-')[-1]\n",
        "\n",
        "            link_to_book = book.find('article', class_='product_pod').find('h3').find('a')['href']\n",
        "            full_link = requests.compat.urljoin(url_raiz, link_to_book)\n",
        "\n",
        "            category = get_category(full_link)\n",
        "            img = book.find('div', class_='image_container').find('a').find('img')['src']\n",
        "            image = requests.compat.urljoin(url_books, img)\n",
        "\n",
        "            book_data.append({\n",
        "                'Title': title,\n",
        "                'Price': price,\n",
        "                'Rating': rating,\n",
        "                'Availability': availability,\n",
        "                'Category': category,\n",
        "                'Image': image\n",
        "            })\n",
        "\n",
        "        time.sleep(1)\n",
        "\n",
        "    return book_data"
      ],
      "metadata": {
        "id": "lZRnHKYMybHc"
      },
      "execution_count": null,
      "outputs": []
    },
    {
      "cell_type": "markdown",
      "source": [
        "## Achando o número de páginas"
      ],
      "metadata": {
        "id": "9MsaWxc952qQ"
      }
    },
    {
      "cell_type": "code",
      "source": [
        "pages = int(soup.find('li', class_='current').get_text(strip=True)[-2:])\n",
        "pages"
      ],
      "metadata": {
        "colab": {
          "base_uri": "https://localhost:8080/"
        },
        "id": "vK5ovNWm5zEL",
        "outputId": "03610b71-a877-4778-8af0-9d37a7cdf115"
      },
      "execution_count": null,
      "outputs": [
        {
          "output_type": "execute_result",
          "data": {
            "text/plain": [
              "50"
            ]
          },
          "metadata": {},
          "execution_count": 21
        }
      ]
    },
    {
      "cell_type": "markdown",
      "source": [
        "## Coletando os dados"
      ],
      "metadata": {
        "id": "_w94lwz_7WJ3"
      }
    },
    {
      "cell_type": "code",
      "source": [
        "book_data = []\n",
        "\n",
        "book_data = get_details(pages)"
      ],
      "metadata": {
        "id": "xRZ2QA9n7VRj"
      },
      "execution_count": null,
      "outputs": []
    },
    {
      "cell_type": "code",
      "source": [
        "df = pd.DataFrame(book_data)"
      ],
      "metadata": {
        "id": "1vYz4R-A9IX-"
      },
      "execution_count": null,
      "outputs": []
    },
    {
      "cell_type": "code",
      "source": [
        "df.head()"
      ],
      "metadata": {
        "colab": {
          "base_uri": "https://localhost:8080/",
          "height": 206
        },
        "id": "HVTJ0rvnfQn-",
        "outputId": "cf46f365-cff0-4326-b465-0fbe140c6ca6"
      },
      "execution_count": null,
      "outputs": [
        {
          "output_type": "execute_result",
          "data": {
            "text/plain": [
              "                                   Title  Price Rating Availability  \\\n",
              "0                   A Light in the Attic  51.77  Three           ok   \n",
              "1                     Tipping the Velvet  53.74    One           ok   \n",
              "2                             Soumission  50.10    One           ok   \n",
              "3                          Sharp Objects  47.82   Four           ok   \n",
              "4  Sapiens: A Brief History of Humankind  54.23   Five           ok   \n",
              "\n",
              "             Category                                              Image  \n",
              "0              Poetry  https://books.toscrape.com/media/cache/2c/da/2...  \n",
              "1  Historical Fiction  https://books.toscrape.com/media/cache/26/0c/2...  \n",
              "2             Fiction  https://books.toscrape.com/media/cache/3e/ef/3...  \n",
              "3             Mystery  https://books.toscrape.com/media/cache/32/51/3...  \n",
              "4             History  https://books.toscrape.com/media/cache/be/a5/b...  "
            ],
            "text/html": [
              "\n",
              "  <div id=\"df-dfc366ce-9ad2-448e-81c6-ce3565ca78b5\" class=\"colab-df-container\">\n",
              "    <div>\n",
              "<style scoped>\n",
              "    .dataframe tbody tr th:only-of-type {\n",
              "        vertical-align: middle;\n",
              "    }\n",
              "\n",
              "    .dataframe tbody tr th {\n",
              "        vertical-align: top;\n",
              "    }\n",
              "\n",
              "    .dataframe thead th {\n",
              "        text-align: right;\n",
              "    }\n",
              "</style>\n",
              "<table border=\"1\" class=\"dataframe\">\n",
              "  <thead>\n",
              "    <tr style=\"text-align: right;\">\n",
              "      <th></th>\n",
              "      <th>Title</th>\n",
              "      <th>Price</th>\n",
              "      <th>Rating</th>\n",
              "      <th>Availability</th>\n",
              "      <th>Category</th>\n",
              "      <th>Image</th>\n",
              "    </tr>\n",
              "  </thead>\n",
              "  <tbody>\n",
              "    <tr>\n",
              "      <th>0</th>\n",
              "      <td>A Light in the Attic</td>\n",
              "      <td>51.77</td>\n",
              "      <td>Three</td>\n",
              "      <td>ok</td>\n",
              "      <td>Poetry</td>\n",
              "      <td>https://books.toscrape.com/media/cache/2c/da/2...</td>\n",
              "    </tr>\n",
              "    <tr>\n",
              "      <th>1</th>\n",
              "      <td>Tipping the Velvet</td>\n",
              "      <td>53.74</td>\n",
              "      <td>One</td>\n",
              "      <td>ok</td>\n",
              "      <td>Historical Fiction</td>\n",
              "      <td>https://books.toscrape.com/media/cache/26/0c/2...</td>\n",
              "    </tr>\n",
              "    <tr>\n",
              "      <th>2</th>\n",
              "      <td>Soumission</td>\n",
              "      <td>50.10</td>\n",
              "      <td>One</td>\n",
              "      <td>ok</td>\n",
              "      <td>Fiction</td>\n",
              "      <td>https://books.toscrape.com/media/cache/3e/ef/3...</td>\n",
              "    </tr>\n",
              "    <tr>\n",
              "      <th>3</th>\n",
              "      <td>Sharp Objects</td>\n",
              "      <td>47.82</td>\n",
              "      <td>Four</td>\n",
              "      <td>ok</td>\n",
              "      <td>Mystery</td>\n",
              "      <td>https://books.toscrape.com/media/cache/32/51/3...</td>\n",
              "    </tr>\n",
              "    <tr>\n",
              "      <th>4</th>\n",
              "      <td>Sapiens: A Brief History of Humankind</td>\n",
              "      <td>54.23</td>\n",
              "      <td>Five</td>\n",
              "      <td>ok</td>\n",
              "      <td>History</td>\n",
              "      <td>https://books.toscrape.com/media/cache/be/a5/b...</td>\n",
              "    </tr>\n",
              "  </tbody>\n",
              "</table>\n",
              "</div>\n",
              "    <div class=\"colab-df-buttons\">\n",
              "\n",
              "  <div class=\"colab-df-container\">\n",
              "    <button class=\"colab-df-convert\" onclick=\"convertToInteractive('df-dfc366ce-9ad2-448e-81c6-ce3565ca78b5')\"\n",
              "            title=\"Convert this dataframe to an interactive table.\"\n",
              "            style=\"display:none;\">\n",
              "\n",
              "  <svg xmlns=\"http://www.w3.org/2000/svg\" height=\"24px\" viewBox=\"0 -960 960 960\">\n",
              "    <path d=\"M120-120v-720h720v720H120Zm60-500h600v-160H180v160Zm220 220h160v-160H400v160Zm0 220h160v-160H400v160ZM180-400h160v-160H180v160Zm440 0h160v-160H620v160ZM180-180h160v-160H180v160Zm440 0h160v-160H620v160Z\"/>\n",
              "  </svg>\n",
              "    </button>\n",
              "\n",
              "  <style>\n",
              "    .colab-df-container {\n",
              "      display:flex;\n",
              "      gap: 12px;\n",
              "    }\n",
              "\n",
              "    .colab-df-convert {\n",
              "      background-color: #E8F0FE;\n",
              "      border: none;\n",
              "      border-radius: 50%;\n",
              "      cursor: pointer;\n",
              "      display: none;\n",
              "      fill: #1967D2;\n",
              "      height: 32px;\n",
              "      padding: 0 0 0 0;\n",
              "      width: 32px;\n",
              "    }\n",
              "\n",
              "    .colab-df-convert:hover {\n",
              "      background-color: #E2EBFA;\n",
              "      box-shadow: 0px 1px 2px rgba(60, 64, 67, 0.3), 0px 1px 3px 1px rgba(60, 64, 67, 0.15);\n",
              "      fill: #174EA6;\n",
              "    }\n",
              "\n",
              "    .colab-df-buttons div {\n",
              "      margin-bottom: 4px;\n",
              "    }\n",
              "\n",
              "    [theme=dark] .colab-df-convert {\n",
              "      background-color: #3B4455;\n",
              "      fill: #D2E3FC;\n",
              "    }\n",
              "\n",
              "    [theme=dark] .colab-df-convert:hover {\n",
              "      background-color: #434B5C;\n",
              "      box-shadow: 0px 1px 3px 1px rgba(0, 0, 0, 0.15);\n",
              "      filter: drop-shadow(0px 1px 2px rgba(0, 0, 0, 0.3));\n",
              "      fill: #FFFFFF;\n",
              "    }\n",
              "  </style>\n",
              "\n",
              "    <script>\n",
              "      const buttonEl =\n",
              "        document.querySelector('#df-dfc366ce-9ad2-448e-81c6-ce3565ca78b5 button.colab-df-convert');\n",
              "      buttonEl.style.display =\n",
              "        google.colab.kernel.accessAllowed ? 'block' : 'none';\n",
              "\n",
              "      async function convertToInteractive(key) {\n",
              "        const element = document.querySelector('#df-dfc366ce-9ad2-448e-81c6-ce3565ca78b5');\n",
              "        const dataTable =\n",
              "          await google.colab.kernel.invokeFunction('convertToInteractive',\n",
              "                                                    [key], {});\n",
              "        if (!dataTable) return;\n",
              "\n",
              "        const docLinkHtml = 'Like what you see? Visit the ' +\n",
              "          '<a target=\"_blank\" href=https://colab.research.google.com/notebooks/data_table.ipynb>data table notebook</a>'\n",
              "          + ' to learn more about interactive tables.';\n",
              "        element.innerHTML = '';\n",
              "        dataTable['output_type'] = 'display_data';\n",
              "        await google.colab.output.renderOutput(dataTable, element);\n",
              "        const docLink = document.createElement('div');\n",
              "        docLink.innerHTML = docLinkHtml;\n",
              "        element.appendChild(docLink);\n",
              "      }\n",
              "    </script>\n",
              "  </div>\n",
              "\n",
              "\n",
              "    <div id=\"df-40f2ba75-c3f2-4deb-ae77-be041c18b9d0\">\n",
              "      <button class=\"colab-df-quickchart\" onclick=\"quickchart('df-40f2ba75-c3f2-4deb-ae77-be041c18b9d0')\"\n",
              "                title=\"Suggest charts\"\n",
              "                style=\"display:none;\">\n",
              "\n",
              "<svg xmlns=\"http://www.w3.org/2000/svg\" height=\"24px\"viewBox=\"0 0 24 24\"\n",
              "     width=\"24px\">\n",
              "    <g>\n",
              "        <path d=\"M19 3H5c-1.1 0-2 .9-2 2v14c0 1.1.9 2 2 2h14c1.1 0 2-.9 2-2V5c0-1.1-.9-2-2-2zM9 17H7v-7h2v7zm4 0h-2V7h2v10zm4 0h-2v-4h2v4z\"/>\n",
              "    </g>\n",
              "</svg>\n",
              "      </button>\n",
              "\n",
              "<style>\n",
              "  .colab-df-quickchart {\n",
              "      --bg-color: #E8F0FE;\n",
              "      --fill-color: #1967D2;\n",
              "      --hover-bg-color: #E2EBFA;\n",
              "      --hover-fill-color: #174EA6;\n",
              "      --disabled-fill-color: #AAA;\n",
              "      --disabled-bg-color: #DDD;\n",
              "  }\n",
              "\n",
              "  [theme=dark] .colab-df-quickchart {\n",
              "      --bg-color: #3B4455;\n",
              "      --fill-color: #D2E3FC;\n",
              "      --hover-bg-color: #434B5C;\n",
              "      --hover-fill-color: #FFFFFF;\n",
              "      --disabled-bg-color: #3B4455;\n",
              "      --disabled-fill-color: #666;\n",
              "  }\n",
              "\n",
              "  .colab-df-quickchart {\n",
              "    background-color: var(--bg-color);\n",
              "    border: none;\n",
              "    border-radius: 50%;\n",
              "    cursor: pointer;\n",
              "    display: none;\n",
              "    fill: var(--fill-color);\n",
              "    height: 32px;\n",
              "    padding: 0;\n",
              "    width: 32px;\n",
              "  }\n",
              "\n",
              "  .colab-df-quickchart:hover {\n",
              "    background-color: var(--hover-bg-color);\n",
              "    box-shadow: 0 1px 2px rgba(60, 64, 67, 0.3), 0 1px 3px 1px rgba(60, 64, 67, 0.15);\n",
              "    fill: var(--button-hover-fill-color);\n",
              "  }\n",
              "\n",
              "  .colab-df-quickchart-complete:disabled,\n",
              "  .colab-df-quickchart-complete:disabled:hover {\n",
              "    background-color: var(--disabled-bg-color);\n",
              "    fill: var(--disabled-fill-color);\n",
              "    box-shadow: none;\n",
              "  }\n",
              "\n",
              "  .colab-df-spinner {\n",
              "    border: 2px solid var(--fill-color);\n",
              "    border-color: transparent;\n",
              "    border-bottom-color: var(--fill-color);\n",
              "    animation:\n",
              "      spin 1s steps(1) infinite;\n",
              "  }\n",
              "\n",
              "  @keyframes spin {\n",
              "    0% {\n",
              "      border-color: transparent;\n",
              "      border-bottom-color: var(--fill-color);\n",
              "      border-left-color: var(--fill-color);\n",
              "    }\n",
              "    20% {\n",
              "      border-color: transparent;\n",
              "      border-left-color: var(--fill-color);\n",
              "      border-top-color: var(--fill-color);\n",
              "    }\n",
              "    30% {\n",
              "      border-color: transparent;\n",
              "      border-left-color: var(--fill-color);\n",
              "      border-top-color: var(--fill-color);\n",
              "      border-right-color: var(--fill-color);\n",
              "    }\n",
              "    40% {\n",
              "      border-color: transparent;\n",
              "      border-right-color: var(--fill-color);\n",
              "      border-top-color: var(--fill-color);\n",
              "    }\n",
              "    60% {\n",
              "      border-color: transparent;\n",
              "      border-right-color: var(--fill-color);\n",
              "    }\n",
              "    80% {\n",
              "      border-color: transparent;\n",
              "      border-right-color: var(--fill-color);\n",
              "      border-bottom-color: var(--fill-color);\n",
              "    }\n",
              "    90% {\n",
              "      border-color: transparent;\n",
              "      border-bottom-color: var(--fill-color);\n",
              "    }\n",
              "  }\n",
              "</style>\n",
              "\n",
              "      <script>\n",
              "        async function quickchart(key) {\n",
              "          const quickchartButtonEl =\n",
              "            document.querySelector('#' + key + ' button');\n",
              "          quickchartButtonEl.disabled = true;  // To prevent multiple clicks.\n",
              "          quickchartButtonEl.classList.add('colab-df-spinner');\n",
              "          try {\n",
              "            const charts = await google.colab.kernel.invokeFunction(\n",
              "                'suggestCharts', [key], {});\n",
              "          } catch (error) {\n",
              "            console.error('Error during call to suggestCharts:', error);\n",
              "          }\n",
              "          quickchartButtonEl.classList.remove('colab-df-spinner');\n",
              "          quickchartButtonEl.classList.add('colab-df-quickchart-complete');\n",
              "        }\n",
              "        (() => {\n",
              "          let quickchartButtonEl =\n",
              "            document.querySelector('#df-40f2ba75-c3f2-4deb-ae77-be041c18b9d0 button');\n",
              "          quickchartButtonEl.style.display =\n",
              "            google.colab.kernel.accessAllowed ? 'block' : 'none';\n",
              "        })();\n",
              "      </script>\n",
              "    </div>\n",
              "\n",
              "    </div>\n",
              "  </div>\n"
            ],
            "application/vnd.google.colaboratory.intrinsic+json": {
              "type": "dataframe",
              "variable_name": "df",
              "summary": "{\n  \"name\": \"df\",\n  \"rows\": 1000,\n  \"fields\": [\n    {\n      \"column\": \"Title\",\n      \"properties\": {\n        \"dtype\": \"string\",\n        \"num_unique_values\": 999,\n        \"samples\": [\n          \"The Grownup\",\n          \"Persepolis: The Story of a Childhood (Persepolis #1-2)\",\n          \"Ayumi's Violin\"\n        ],\n        \"semantic_type\": \"\",\n        \"description\": \"\"\n      }\n    },\n    {\n      \"column\": \"Price\",\n      \"properties\": {\n        \"dtype\": \"string\",\n        \"num_unique_values\": 903,\n        \"samples\": [\n          \"19.73\",\n          \"55.65\",\n          \"46.31\"\n        ],\n        \"semantic_type\": \"\",\n        \"description\": \"\"\n      }\n    },\n    {\n      \"column\": \"Rating\",\n      \"properties\": {\n        \"dtype\": \"category\",\n        \"num_unique_values\": 5,\n        \"samples\": [\n          \"One\",\n          \"Two\",\n          \"Four\"\n        ],\n        \"semantic_type\": \"\",\n        \"description\": \"\"\n      }\n    },\n    {\n      \"column\": \"Availability\",\n      \"properties\": {\n        \"dtype\": \"category\",\n        \"num_unique_values\": 1,\n        \"samples\": [\n          \"ok\"\n        ],\n        \"semantic_type\": \"\",\n        \"description\": \"\"\n      }\n    },\n    {\n      \"column\": \"Category\",\n      \"properties\": {\n        \"dtype\": \"category\",\n        \"num_unique_values\": 50,\n        \"samples\": [\n          \"Thriller\"\n        ],\n        \"semantic_type\": \"\",\n        \"description\": \"\"\n      }\n    },\n    {\n      \"column\": \"Image\",\n      \"properties\": {\n        \"dtype\": \"string\",\n        \"num_unique_values\": 1000,\n        \"samples\": [\n          \"https://books.toscrape.com/media/cache/e6/b6/e6b66353f9325518994dd8b564290fd7.jpg\"\n        ],\n        \"semantic_type\": \"\",\n        \"description\": \"\"\n      }\n    }\n  ]\n}"
            }
          },
          "metadata": {},
          "execution_count": 44
        }
      ]
    },
    {
      "cell_type": "code",
      "source": [
        "df.shape"
      ],
      "metadata": {
        "colab": {
          "base_uri": "https://localhost:8080/"
        },
        "id": "7KxX-Vw_fRzJ",
        "outputId": "e94632c4-08ba-4ae0-a7eb-ab573ded7c68"
      },
      "execution_count": null,
      "outputs": [
        {
          "output_type": "execute_result",
          "data": {
            "text/plain": [
              "(1000, 6)"
            ]
          },
          "metadata": {},
          "execution_count": 45
        }
      ]
    },
    {
      "cell_type": "code",
      "source": [
        "df.to_csv('books.csv', index=False)"
      ],
      "metadata": {
        "id": "TGJwH5CdhA2x"
      },
      "execution_count": null,
      "outputs": []
    }
  ]
}